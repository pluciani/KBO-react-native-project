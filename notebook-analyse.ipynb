{
 "cells": [
  {
   "cell_type": "markdown",
   "metadata": {},
   "source": [
    "# Analyse des csv pour planifier la base de données\n",
    "\n",
    "## Fichiers CSV\n",
    "- activity.csv\n",
    "- address.csv\n",
    "- branch.csv\n",
    "- code.csv\n",
    "- contact.csv\n",
    "- denomination.csv\n",
    "- enterprise.csv\n",
    "- establishment.csv\n"
   ]
  },
  {
   "cell_type": "code",
   "execution_count": 1,
   "metadata": {},
   "outputs": [],
   "source": [
    "# Importer les librairies necessaires\n",
    "import pandas as pd\n",
    "import numpy as np"
   ]
  },
  {
   "cell_type": "markdown",
   "metadata": {},
   "source": [
    "### activity.csv"
   ]
  },
  {
   "cell_type": "code",
   "execution_count": 2,
   "metadata": {},
   "outputs": [],
   "source": [
    "#Chargez les fichiers csv dans des dataframes\n",
    "activity = pd.read_csv('../data/activity.csv')"
   ]
  },
  {
   "cell_type": "code",
   "execution_count": 3,
   "metadata": {},
   "outputs": [
    {
     "data": {
      "text/html": [
       "<div>\n",
       "<style scoped>\n",
       "    .dataframe tbody tr th:only-of-type {\n",
       "        vertical-align: middle;\n",
       "    }\n",
       "\n",
       "    .dataframe tbody tr th {\n",
       "        vertical-align: top;\n",
       "    }\n",
       "\n",
       "    .dataframe thead th {\n",
       "        text-align: right;\n",
       "    }\n",
       "</style>\n",
       "<table border=\"1\" class=\"dataframe\">\n",
       "  <thead>\n",
       "    <tr style=\"text-align: right;\">\n",
       "      <th></th>\n",
       "      <th>EntityNumber</th>\n",
       "      <th>ActivityGroup</th>\n",
       "      <th>NaceVersion</th>\n",
       "      <th>NaceCode</th>\n",
       "      <th>Classification</th>\n",
       "    </tr>\n",
       "  </thead>\n",
       "  <tbody>\n",
       "    <tr>\n",
       "      <th>0</th>\n",
       "      <td>0200.065.765</td>\n",
       "      <td>6</td>\n",
       "      <td>2008</td>\n",
       "      <td>84130</td>\n",
       "      <td>MAIN</td>\n",
       "    </tr>\n",
       "    <tr>\n",
       "      <th>1</th>\n",
       "      <td>0200.065.765</td>\n",
       "      <td>1</td>\n",
       "      <td>2008</td>\n",
       "      <td>41101</td>\n",
       "      <td>MAIN</td>\n",
       "    </tr>\n",
       "    <tr>\n",
       "      <th>2</th>\n",
       "      <td>0200.065.765</td>\n",
       "      <td>1</td>\n",
       "      <td>2003</td>\n",
       "      <td>70111</td>\n",
       "      <td>MAIN</td>\n",
       "    </tr>\n",
       "    <tr>\n",
       "      <th>3</th>\n",
       "      <td>0200.068.636</td>\n",
       "      <td>6</td>\n",
       "      <td>2008</td>\n",
       "      <td>36000</td>\n",
       "      <td>MAIN</td>\n",
       "    </tr>\n",
       "    <tr>\n",
       "      <th>4</th>\n",
       "      <td>0200.068.636</td>\n",
       "      <td>1</td>\n",
       "      <td>2008</td>\n",
       "      <td>36000</td>\n",
       "      <td>MAIN</td>\n",
       "    </tr>\n",
       "  </tbody>\n",
       "</table>\n",
       "</div>"
      ],
      "text/plain": [
       "   EntityNumber  ActivityGroup  NaceVersion  NaceCode Classification\n",
       "0  0200.065.765              6         2008     84130           MAIN\n",
       "1  0200.065.765              1         2008     41101           MAIN\n",
       "2  0200.065.765              1         2003     70111           MAIN\n",
       "3  0200.068.636              6         2008     36000           MAIN\n",
       "4  0200.068.636              1         2008     36000           MAIN"
      ]
     },
     "execution_count": 3,
     "metadata": {},
     "output_type": "execute_result"
    }
   ],
   "source": [
    "activity.head()"
   ]
  },
  {
   "cell_type": "code",
   "execution_count": 4,
   "metadata": {},
   "outputs": [
    {
     "data": {
      "text/plain": [
       "(20443184, 5)"
      ]
     },
     "execution_count": 4,
     "metadata": {},
     "output_type": "execute_result"
    }
   ],
   "source": [
    "activity.shape"
   ]
  },
  {
   "cell_type": "code",
   "execution_count": 5,
   "metadata": {},
   "outputs": [
    {
     "name": "stdout",
     "output_type": "stream",
     "text": [
      "<class 'pandas.core.frame.DataFrame'>\n",
      "RangeIndex: 20443184 entries, 0 to 20443183\n",
      "Data columns (total 5 columns):\n",
      " #   Column          Dtype \n",
      "---  ------          ----- \n",
      " 0   EntityNumber    object\n",
      " 1   ActivityGroup   int64 \n",
      " 2   NaceVersion     int64 \n",
      " 3   NaceCode        int64 \n",
      " 4   Classification  object\n",
      "dtypes: int64(3), object(2)\n",
      "memory usage: 779.8+ MB\n"
     ]
    }
   ],
   "source": [
    "activity.info()"
   ]
  },
  {
   "cell_type": "code",
   "execution_count": 6,
   "metadata": {},
   "outputs": [
    {
     "data": {
      "text/plain": [
       "1105"
      ]
     },
     "execution_count": 6,
     "metadata": {},
     "output_type": "execute_result"
    }
   ],
   "source": [
    "# Vérifier s'il y a des valeurs en double\n",
    "activity.duplicated().sum()"
   ]
  },
  {
   "cell_type": "code",
   "execution_count": 7,
   "metadata": {},
   "outputs": [
    {
     "data": {
      "text/plain": [
       "EntityNumber      0\n",
       "ActivityGroup     0\n",
       "NaceVersion       0\n",
       "NaceCode          0\n",
       "Classification    0\n",
       "dtype: int64"
      ]
     },
     "execution_count": 7,
     "metadata": {},
     "output_type": "execute_result"
    }
   ],
   "source": [
    "# Vérifier s'il y a des valeurs manquantes\n",
    "activity.isnull().sum()"
   ]
  },
  {
   "cell_type": "markdown",
   "metadata": {},
   "source": [
    "### address.csv"
   ]
  },
  {
   "cell_type": "code",
   "execution_count": 8,
   "metadata": {},
   "outputs": [],
   "source": [
    "dtype_dict = {\n",
    "    2: 'str',\n",
    "    3: 'str',\n",
    "    4: 'str'\n",
    "}\n",
    "address = pd.read_csv('../data/address.csv', dtype=dtype_dict, low_memory=False)"
   ]
  },
  {
   "cell_type": "code",
   "execution_count": 9,
   "metadata": {},
   "outputs": [
    {
     "data": {
      "text/html": [
       "<div>\n",
       "<style scoped>\n",
       "    .dataframe tbody tr th:only-of-type {\n",
       "        vertical-align: middle;\n",
       "    }\n",
       "\n",
       "    .dataframe tbody tr th {\n",
       "        vertical-align: top;\n",
       "    }\n",
       "\n",
       "    .dataframe thead th {\n",
       "        text-align: right;\n",
       "    }\n",
       "</style>\n",
       "<table border=\"1\" class=\"dataframe\">\n",
       "  <thead>\n",
       "    <tr style=\"text-align: right;\">\n",
       "      <th></th>\n",
       "      <th>EntityNumber</th>\n",
       "      <th>TypeOfAddress</th>\n",
       "      <th>CountryNL</th>\n",
       "      <th>CountryFR</th>\n",
       "      <th>Zipcode</th>\n",
       "      <th>MunicipalityNL</th>\n",
       "      <th>MunicipalityFR</th>\n",
       "      <th>StreetNL</th>\n",
       "      <th>StreetFR</th>\n",
       "      <th>HouseNumber</th>\n",
       "      <th>Box</th>\n",
       "      <th>ExtraAddressInfo</th>\n",
       "      <th>DateStrikingOff</th>\n",
       "    </tr>\n",
       "  </thead>\n",
       "  <tbody>\n",
       "    <tr>\n",
       "      <th>0</th>\n",
       "      <td>0200.065.765</td>\n",
       "      <td>REGO</td>\n",
       "      <td>NaN</td>\n",
       "      <td>NaN</td>\n",
       "      <td>9070</td>\n",
       "      <td>Destelbergen</td>\n",
       "      <td>Destelbergen</td>\n",
       "      <td>Panhuisstraat</td>\n",
       "      <td>Panhuisstraat</td>\n",
       "      <td>1</td>\n",
       "      <td>NaN</td>\n",
       "      <td>NaN</td>\n",
       "      <td>NaN</td>\n",
       "    </tr>\n",
       "    <tr>\n",
       "      <th>1</th>\n",
       "      <td>0200.068.636</td>\n",
       "      <td>REGO</td>\n",
       "      <td>NaN</td>\n",
       "      <td>NaN</td>\n",
       "      <td>9000</td>\n",
       "      <td>Gent</td>\n",
       "      <td>Gent</td>\n",
       "      <td>Stropstraat</td>\n",
       "      <td>Stropstraat</td>\n",
       "      <td>1</td>\n",
       "      <td>NaN</td>\n",
       "      <td>NaN</td>\n",
       "      <td>NaN</td>\n",
       "    </tr>\n",
       "    <tr>\n",
       "      <th>2</th>\n",
       "      <td>0200.171.970</td>\n",
       "      <td>REGO</td>\n",
       "      <td>NaN</td>\n",
       "      <td>NaN</td>\n",
       "      <td>9000</td>\n",
       "      <td>Gent</td>\n",
       "      <td>Gent</td>\n",
       "      <td>Brabantdam</td>\n",
       "      <td>Brabantdam</td>\n",
       "      <td>101</td>\n",
       "      <td>NaN</td>\n",
       "      <td>NaN</td>\n",
       "      <td>NaN</td>\n",
       "    </tr>\n",
       "    <tr>\n",
       "      <th>3</th>\n",
       "      <td>0200.245.711</td>\n",
       "      <td>REGO</td>\n",
       "      <td>NaN</td>\n",
       "      <td>NaN</td>\n",
       "      <td>9500</td>\n",
       "      <td>Geraardsbergen</td>\n",
       "      <td>Geraardsbergen</td>\n",
       "      <td>Hoge Buizemont</td>\n",
       "      <td>Hoge Buizemont</td>\n",
       "      <td>247</td>\n",
       "      <td>NaN</td>\n",
       "      <td>NaN</td>\n",
       "      <td>NaN</td>\n",
       "    </tr>\n",
       "    <tr>\n",
       "      <th>4</th>\n",
       "      <td>0200.305.493</td>\n",
       "      <td>REGO</td>\n",
       "      <td>NaN</td>\n",
       "      <td>NaN</td>\n",
       "      <td>9520</td>\n",
       "      <td>Sint-Lievens-Houtem</td>\n",
       "      <td>Sint-Lievens-Houtem</td>\n",
       "      <td>Gentsesteenweg</td>\n",
       "      <td>Gentsesteenweg</td>\n",
       "      <td>1B</td>\n",
       "      <td>NaN</td>\n",
       "      <td>NaN</td>\n",
       "      <td>NaN</td>\n",
       "    </tr>\n",
       "  </tbody>\n",
       "</table>\n",
       "</div>"
      ],
      "text/plain": [
       "   EntityNumber TypeOfAddress CountryNL CountryFR Zipcode  \\\n",
       "0  0200.065.765          REGO       NaN       NaN    9070   \n",
       "1  0200.068.636          REGO       NaN       NaN    9000   \n",
       "2  0200.171.970          REGO       NaN       NaN    9000   \n",
       "3  0200.245.711          REGO       NaN       NaN    9500   \n",
       "4  0200.305.493          REGO       NaN       NaN    9520   \n",
       "\n",
       "        MunicipalityNL       MunicipalityFR        StreetNL        StreetFR  \\\n",
       "0         Destelbergen         Destelbergen   Panhuisstraat   Panhuisstraat   \n",
       "1                 Gent                 Gent     Stropstraat     Stropstraat   \n",
       "2                 Gent                 Gent      Brabantdam      Brabantdam   \n",
       "3       Geraardsbergen       Geraardsbergen  Hoge Buizemont  Hoge Buizemont   \n",
       "4  Sint-Lievens-Houtem  Sint-Lievens-Houtem  Gentsesteenweg  Gentsesteenweg   \n",
       "\n",
       "  HouseNumber  Box ExtraAddressInfo DateStrikingOff  \n",
       "0           1  NaN              NaN             NaN  \n",
       "1           1  NaN              NaN             NaN  \n",
       "2         101  NaN              NaN             NaN  \n",
       "3         247  NaN              NaN             NaN  \n",
       "4          1B  NaN              NaN             NaN  "
      ]
     },
     "execution_count": 9,
     "metadata": {},
     "output_type": "execute_result"
    }
   ],
   "source": [
    "address.head()"
   ]
  },
  {
   "cell_type": "code",
   "execution_count": 10,
   "metadata": {},
   "outputs": [
    {
     "name": "stdout",
     "output_type": "stream",
     "text": [
      "<class 'pandas.core.frame.DataFrame'>\n",
      "RangeIndex: 2765156 entries, 0 to 2765155\n",
      "Data columns (total 13 columns):\n",
      " #   Column            Dtype \n",
      "---  ------            ----- \n",
      " 0   EntityNumber      object\n",
      " 1   TypeOfAddress     object\n",
      " 2   CountryNL         object\n",
      " 3   CountryFR         object\n",
      " 4   Zipcode           object\n",
      " 5   MunicipalityNL    object\n",
      " 6   MunicipalityFR    object\n",
      " 7   StreetNL          object\n",
      " 8   StreetFR          object\n",
      " 9   HouseNumber       object\n",
      " 10  Box               object\n",
      " 11  ExtraAddressInfo  object\n",
      " 12  DateStrikingOff   object\n",
      "dtypes: object(13)\n",
      "memory usage: 274.3+ MB\n"
     ]
    }
   ],
   "source": [
    "address.info()"
   ]
  },
  {
   "cell_type": "code",
   "execution_count": 11,
   "metadata": {},
   "outputs": [
    {
     "data": {
      "text/plain": [
       "0"
      ]
     },
     "execution_count": 11,
     "metadata": {},
     "output_type": "execute_result"
    }
   ],
   "source": [
    "address.duplicated().sum()"
   ]
  },
  {
   "cell_type": "code",
   "execution_count": 12,
   "metadata": {},
   "outputs": [
    {
     "data": {
      "text/plain": [
       "EntityNumber              0\n",
       "TypeOfAddress             0\n",
       "CountryNL           2683139\n",
       "CountryFR           2683139\n",
       "Zipcode               10999\n",
       "MunicipalityNL          150\n",
       "MunicipalityFR          150\n",
       "StreetNL               8539\n",
       "StreetFR               8539\n",
       "HouseNumber           15266\n",
       "Box                 2381990\n",
       "ExtraAddressInfo    2738123\n",
       "DateStrikingOff     2732801\n",
       "dtype: int64"
      ]
     },
     "execution_count": 12,
     "metadata": {},
     "output_type": "execute_result"
    }
   ],
   "source": [
    "address.isnull().sum()"
   ]
  },
  {
   "cell_type": "markdown",
   "metadata": {},
   "source": [
    "### branch.csv"
   ]
  },
  {
   "cell_type": "code",
   "execution_count": 13,
   "metadata": {},
   "outputs": [],
   "source": [
    "branch = pd.read_csv('../data/branch.csv')"
   ]
  },
  {
   "cell_type": "code",
   "execution_count": 14,
   "metadata": {},
   "outputs": [
    {
     "data": {
      "text/html": [
       "<div>\n",
       "<style scoped>\n",
       "    .dataframe tbody tr th:only-of-type {\n",
       "        vertical-align: middle;\n",
       "    }\n",
       "\n",
       "    .dataframe tbody tr th {\n",
       "        vertical-align: top;\n",
       "    }\n",
       "\n",
       "    .dataframe thead th {\n",
       "        text-align: right;\n",
       "    }\n",
       "</style>\n",
       "<table border=\"1\" class=\"dataframe\">\n",
       "  <thead>\n",
       "    <tr style=\"text-align: right;\">\n",
       "      <th></th>\n",
       "      <th>Id</th>\n",
       "      <th>StartDate</th>\n",
       "      <th>EnterpriseNumber</th>\n",
       "    </tr>\n",
       "  </thead>\n",
       "  <tbody>\n",
       "    <tr>\n",
       "      <th>0</th>\n",
       "      <td>9.000.006.626</td>\n",
       "      <td>01-09-1995</td>\n",
       "      <td>0257.883.408</td>\n",
       "    </tr>\n",
       "    <tr>\n",
       "      <th>1</th>\n",
       "      <td>9.000.008.210</td>\n",
       "      <td>01-01-1968</td>\n",
       "      <td>0400.051.358</td>\n",
       "    </tr>\n",
       "    <tr>\n",
       "      <th>2</th>\n",
       "      <td>9.000.008.705</td>\n",
       "      <td>01-01-1968</td>\n",
       "      <td>0400.067.095</td>\n",
       "    </tr>\n",
       "    <tr>\n",
       "      <th>3</th>\n",
       "      <td>9.000.009.594</td>\n",
       "      <td>01-01-1968</td>\n",
       "      <td>0400.150.140</td>\n",
       "    </tr>\n",
       "    <tr>\n",
       "      <th>4</th>\n",
       "      <td>9.000.011.574</td>\n",
       "      <td>30-04-1963</td>\n",
       "      <td>0400.291.680</td>\n",
       "    </tr>\n",
       "  </tbody>\n",
       "</table>\n",
       "</div>"
      ],
      "text/plain": [
       "              Id   StartDate EnterpriseNumber\n",
       "0  9.000.006.626  01-09-1995     0257.883.408\n",
       "1  9.000.008.210  01-01-1968     0400.051.358\n",
       "2  9.000.008.705  01-01-1968     0400.067.095\n",
       "3  9.000.009.594  01-01-1968     0400.150.140\n",
       "4  9.000.011.574  30-04-1963     0400.291.680"
      ]
     },
     "execution_count": 14,
     "metadata": {},
     "output_type": "execute_result"
    }
   ],
   "source": [
    "branch.head()"
   ]
  },
  {
   "cell_type": "code",
   "execution_count": 15,
   "metadata": {},
   "outputs": [
    {
     "name": "stdout",
     "output_type": "stream",
     "text": [
      "<class 'pandas.core.frame.DataFrame'>\n",
      "RangeIndex: 7355 entries, 0 to 7354\n",
      "Data columns (total 3 columns):\n",
      " #   Column            Non-Null Count  Dtype \n",
      "---  ------            --------------  ----- \n",
      " 0   Id                7355 non-null   object\n",
      " 1   StartDate         7355 non-null   object\n",
      " 2   EnterpriseNumber  7355 non-null   object\n",
      "dtypes: object(3)\n",
      "memory usage: 172.5+ KB\n"
     ]
    }
   ],
   "source": [
    "branch.info()"
   ]
  },
  {
   "cell_type": "code",
   "execution_count": 16,
   "metadata": {},
   "outputs": [
    {
     "data": {
      "text/plain": [
       "0"
      ]
     },
     "execution_count": 16,
     "metadata": {},
     "output_type": "execute_result"
    }
   ],
   "source": [
    "branch.duplicated().sum()"
   ]
  },
  {
   "cell_type": "code",
   "execution_count": 17,
   "metadata": {},
   "outputs": [
    {
     "data": {
      "text/plain": [
       "Id                  0\n",
       "StartDate           0\n",
       "EnterpriseNumber    0\n",
       "dtype: int64"
      ]
     },
     "execution_count": 17,
     "metadata": {},
     "output_type": "execute_result"
    }
   ],
   "source": [
    "branch.isnull().sum()"
   ]
  },
  {
   "cell_type": "markdown",
   "metadata": {},
   "source": [
    "### code.csv"
   ]
  },
  {
   "cell_type": "code",
   "execution_count": 18,
   "metadata": {},
   "outputs": [],
   "source": [
    "code = pd.read_csv('../data/code.csv')"
   ]
  },
  {
   "cell_type": "code",
   "execution_count": 19,
   "metadata": {},
   "outputs": [
    {
     "data": {
      "text/html": [
       "<div>\n",
       "<style scoped>\n",
       "    .dataframe tbody tr th:only-of-type {\n",
       "        vertical-align: middle;\n",
       "    }\n",
       "\n",
       "    .dataframe tbody tr th {\n",
       "        vertical-align: top;\n",
       "    }\n",
       "\n",
       "    .dataframe thead th {\n",
       "        text-align: right;\n",
       "    }\n",
       "</style>\n",
       "<table border=\"1\" class=\"dataframe\">\n",
       "  <thead>\n",
       "    <tr style=\"text-align: right;\">\n",
       "      <th></th>\n",
       "      <th>Category</th>\n",
       "      <th>Code</th>\n",
       "      <th>Language</th>\n",
       "      <th>Description</th>\n",
       "    </tr>\n",
       "  </thead>\n",
       "  <tbody>\n",
       "    <tr>\n",
       "      <th>0</th>\n",
       "      <td>ActivityGroup</td>\n",
       "      <td>001</td>\n",
       "      <td>FR</td>\n",
       "      <td>Activités TVA</td>\n",
       "    </tr>\n",
       "    <tr>\n",
       "      <th>1</th>\n",
       "      <td>ActivityGroup</td>\n",
       "      <td>001</td>\n",
       "      <td>NL</td>\n",
       "      <td>BTW-activiteiten</td>\n",
       "    </tr>\n",
       "    <tr>\n",
       "      <th>2</th>\n",
       "      <td>ActivityGroup</td>\n",
       "      <td>002</td>\n",
       "      <td>FR</td>\n",
       "      <td>Activités EDRL</td>\n",
       "    </tr>\n",
       "    <tr>\n",
       "      <th>3</th>\n",
       "      <td>ActivityGroup</td>\n",
       "      <td>002</td>\n",
       "      <td>NL</td>\n",
       "      <td>EDRL-activiteiten</td>\n",
       "    </tr>\n",
       "    <tr>\n",
       "      <th>4</th>\n",
       "      <td>ActivityGroup</td>\n",
       "      <td>003</td>\n",
       "      <td>FR</td>\n",
       "      <td>Activités</td>\n",
       "    </tr>\n",
       "  </tbody>\n",
       "</table>\n",
       "</div>"
      ],
      "text/plain": [
       "        Category Code Language        Description\n",
       "0  ActivityGroup  001       FR      Activités TVA\n",
       "1  ActivityGroup  001       NL   BTW-activiteiten\n",
       "2  ActivityGroup  002       FR     Activités EDRL\n",
       "3  ActivityGroup  002       NL  EDRL-activiteiten\n",
       "4  ActivityGroup  003       FR          Activités"
      ]
     },
     "execution_count": 19,
     "metadata": {},
     "output_type": "execute_result"
    }
   ],
   "source": [
    "code.head()"
   ]
  },
  {
   "cell_type": "code",
   "execution_count": 20,
   "metadata": {},
   "outputs": [
    {
     "name": "stdout",
     "output_type": "stream",
     "text": [
      "<class 'pandas.core.frame.DataFrame'>\n",
      "RangeIndex: 14948 entries, 0 to 14947\n",
      "Data columns (total 4 columns):\n",
      " #   Column       Non-Null Count  Dtype \n",
      "---  ------       --------------  ----- \n",
      " 0   Category     14948 non-null  object\n",
      " 1   Code         14948 non-null  object\n",
      " 2   Language     14948 non-null  object\n",
      " 3   Description  14948 non-null  object\n",
      "dtypes: object(4)\n",
      "memory usage: 467.3+ KB\n"
     ]
    }
   ],
   "source": [
    "code.info()"
   ]
  },
  {
   "cell_type": "code",
   "execution_count": 21,
   "metadata": {},
   "outputs": [
    {
     "data": {
      "text/plain": [
       "0"
      ]
     },
     "execution_count": 21,
     "metadata": {},
     "output_type": "execute_result"
    }
   ],
   "source": [
    "code.duplicated().sum()"
   ]
  },
  {
   "cell_type": "code",
   "execution_count": 22,
   "metadata": {},
   "outputs": [
    {
     "data": {
      "text/plain": [
       "Category       0\n",
       "Code           0\n",
       "Language       0\n",
       "Description    0\n",
       "dtype: int64"
      ]
     },
     "execution_count": 22,
     "metadata": {},
     "output_type": "execute_result"
    }
   ],
   "source": [
    "code.isnull().sum()"
   ]
  },
  {
   "cell_type": "markdown",
   "metadata": {},
   "source": [
    "### contact.csv"
   ]
  },
  {
   "cell_type": "code",
   "execution_count": 23,
   "metadata": {},
   "outputs": [],
   "source": [
    "contact = pd.read_csv('../data/contact.csv')"
   ]
  },
  {
   "cell_type": "code",
   "execution_count": 24,
   "metadata": {},
   "outputs": [
    {
     "data": {
      "text/html": [
       "<div>\n",
       "<style scoped>\n",
       "    .dataframe tbody tr th:only-of-type {\n",
       "        vertical-align: middle;\n",
       "    }\n",
       "\n",
       "    .dataframe tbody tr th {\n",
       "        vertical-align: top;\n",
       "    }\n",
       "\n",
       "    .dataframe thead th {\n",
       "        text-align: right;\n",
       "    }\n",
       "</style>\n",
       "<table border=\"1\" class=\"dataframe\">\n",
       "  <thead>\n",
       "    <tr style=\"text-align: right;\">\n",
       "      <th></th>\n",
       "      <th>EntityNumber</th>\n",
       "      <th>EntityContact</th>\n",
       "      <th>ContactType</th>\n",
       "      <th>Value</th>\n",
       "    </tr>\n",
       "  </thead>\n",
       "  <tbody>\n",
       "    <tr>\n",
       "      <th>0</th>\n",
       "      <td>0200.362.210</td>\n",
       "      <td>ENT</td>\n",
       "      <td>EMAIL</td>\n",
       "      <td>officiel.ic-inbw@inbw.be</td>\n",
       "    </tr>\n",
       "    <tr>\n",
       "      <th>1</th>\n",
       "      <td>0200.362.408</td>\n",
       "      <td>ENT</td>\n",
       "      <td>TEL</td>\n",
       "      <td>02 315 13 51</td>\n",
       "    </tr>\n",
       "    <tr>\n",
       "      <th>2</th>\n",
       "      <td>0200.362.408</td>\n",
       "      <td>ENT</td>\n",
       "      <td>EMAIL</td>\n",
       "      <td>info@isbw.be</td>\n",
       "    </tr>\n",
       "    <tr>\n",
       "      <th>3</th>\n",
       "      <td>0201.105.843</td>\n",
       "      <td>ENT</td>\n",
       "      <td>EMAIL</td>\n",
       "      <td>officiel.ic-idea@idea.be</td>\n",
       "    </tr>\n",
       "    <tr>\n",
       "      <th>4</th>\n",
       "      <td>0201.107.922</td>\n",
       "      <td>ENT</td>\n",
       "      <td>EMAIL</td>\n",
       "      <td>officiel.ic-irsia@irsia.be</td>\n",
       "    </tr>\n",
       "  </tbody>\n",
       "</table>\n",
       "</div>"
      ],
      "text/plain": [
       "   EntityNumber EntityContact ContactType                       Value\n",
       "0  0200.362.210           ENT       EMAIL    officiel.ic-inbw@inbw.be\n",
       "1  0200.362.408           ENT         TEL                02 315 13 51\n",
       "2  0200.362.408           ENT       EMAIL                info@isbw.be\n",
       "3  0201.105.843           ENT       EMAIL    officiel.ic-idea@idea.be\n",
       "4  0201.107.922           ENT       EMAIL  officiel.ic-irsia@irsia.be"
      ]
     },
     "execution_count": 24,
     "metadata": {},
     "output_type": "execute_result"
    }
   ],
   "source": [
    "contact.head()"
   ]
  },
  {
   "cell_type": "code",
   "execution_count": 25,
   "metadata": {},
   "outputs": [
    {
     "name": "stdout",
     "output_type": "stream",
     "text": [
      "<class 'pandas.core.frame.DataFrame'>\n",
      "RangeIndex: 648723 entries, 0 to 648722\n",
      "Data columns (total 4 columns):\n",
      " #   Column         Non-Null Count   Dtype \n",
      "---  ------         --------------   ----- \n",
      " 0   EntityNumber   648723 non-null  object\n",
      " 1   EntityContact  648723 non-null  object\n",
      " 2   ContactType    648723 non-null  object\n",
      " 3   Value          648723 non-null  object\n",
      "dtypes: object(4)\n",
      "memory usage: 19.8+ MB\n"
     ]
    }
   ],
   "source": [
    "contact.info()"
   ]
  },
  {
   "cell_type": "code",
   "execution_count": 26,
   "metadata": {},
   "outputs": [
    {
     "data": {
      "text/plain": [
       "1790"
      ]
     },
     "execution_count": 26,
     "metadata": {},
     "output_type": "execute_result"
    }
   ],
   "source": [
    "contact.duplicated().sum()"
   ]
  },
  {
   "cell_type": "code",
   "execution_count": 27,
   "metadata": {},
   "outputs": [
    {
     "data": {
      "text/plain": [
       "EntityNumber     0\n",
       "EntityContact    0\n",
       "ContactType      0\n",
       "Value            0\n",
       "dtype: int64"
      ]
     },
     "execution_count": 27,
     "metadata": {},
     "output_type": "execute_result"
    }
   ],
   "source": [
    "contact.isnull().sum()"
   ]
  },
  {
   "cell_type": "markdown",
   "metadata": {},
   "source": [
    "### denomination.csv"
   ]
  },
  {
   "cell_type": "code",
   "execution_count": 28,
   "metadata": {},
   "outputs": [],
   "source": [
    "denomination = pd.read_csv('../data/denomination.csv')"
   ]
  },
  {
   "cell_type": "code",
   "execution_count": 29,
   "metadata": {},
   "outputs": [
    {
     "data": {
      "text/html": [
       "<div>\n",
       "<style scoped>\n",
       "    .dataframe tbody tr th:only-of-type {\n",
       "        vertical-align: middle;\n",
       "    }\n",
       "\n",
       "    .dataframe tbody tr th {\n",
       "        vertical-align: top;\n",
       "    }\n",
       "\n",
       "    .dataframe thead th {\n",
       "        text-align: right;\n",
       "    }\n",
       "</style>\n",
       "<table border=\"1\" class=\"dataframe\">\n",
       "  <thead>\n",
       "    <tr style=\"text-align: right;\">\n",
       "      <th></th>\n",
       "      <th>EntityNumber</th>\n",
       "      <th>Language</th>\n",
       "      <th>TypeOfDenomination</th>\n",
       "      <th>Denomination</th>\n",
       "    </tr>\n",
       "  </thead>\n",
       "  <tbody>\n",
       "    <tr>\n",
       "      <th>0</th>\n",
       "      <td>0200.065.765</td>\n",
       "      <td>2</td>\n",
       "      <td>1</td>\n",
       "      <td>Intergemeentelijke Vereniging Veneco</td>\n",
       "    </tr>\n",
       "    <tr>\n",
       "      <th>1</th>\n",
       "      <td>0200.065.765</td>\n",
       "      <td>2</td>\n",
       "      <td>2</td>\n",
       "      <td>Veneco</td>\n",
       "    </tr>\n",
       "    <tr>\n",
       "      <th>2</th>\n",
       "      <td>0200.068.636</td>\n",
       "      <td>2</td>\n",
       "      <td>1</td>\n",
       "      <td>Farys</td>\n",
       "    </tr>\n",
       "    <tr>\n",
       "      <th>3</th>\n",
       "      <td>0200.171.970</td>\n",
       "      <td>0</td>\n",
       "      <td>1</td>\n",
       "      <td>Sanatorium-Hospitaal van Lemberge</td>\n",
       "    </tr>\n",
       "    <tr>\n",
       "      <th>4</th>\n",
       "      <td>0200.245.711</td>\n",
       "      <td>2</td>\n",
       "      <td>1</td>\n",
       "      <td>Intercommunaal Sanatorium Denderoord</td>\n",
       "    </tr>\n",
       "  </tbody>\n",
       "</table>\n",
       "</div>"
      ],
      "text/plain": [
       "   EntityNumber  Language  TypeOfDenomination  \\\n",
       "0  0200.065.765         2                   1   \n",
       "1  0200.065.765         2                   2   \n",
       "2  0200.068.636         2                   1   \n",
       "3  0200.171.970         0                   1   \n",
       "4  0200.245.711         2                   1   \n",
       "\n",
       "                           Denomination  \n",
       "0  Intergemeentelijke Vereniging Veneco  \n",
       "1                                Veneco  \n",
       "2                                 Farys  \n",
       "3     Sanatorium-Hospitaal van Lemberge  \n",
       "4  Intercommunaal Sanatorium Denderoord  "
      ]
     },
     "execution_count": 29,
     "metadata": {},
     "output_type": "execute_result"
    }
   ],
   "source": [
    "denomination.head()"
   ]
  },
  {
   "cell_type": "code",
   "execution_count": 30,
   "metadata": {},
   "outputs": [
    {
     "name": "stdout",
     "output_type": "stream",
     "text": [
      "<class 'pandas.core.frame.DataFrame'>\n",
      "RangeIndex: 3223091 entries, 0 to 3223090\n",
      "Data columns (total 4 columns):\n",
      " #   Column              Dtype \n",
      "---  ------              ----- \n",
      " 0   EntityNumber        object\n",
      " 1   Language            int64 \n",
      " 2   TypeOfDenomination  int64 \n",
      " 3   Denomination        object\n",
      "dtypes: int64(2), object(2)\n",
      "memory usage: 98.4+ MB\n"
     ]
    }
   ],
   "source": [
    "denomination.info()"
   ]
  },
  {
   "cell_type": "code",
   "execution_count": 31,
   "metadata": {},
   "outputs": [
    {
     "data": {
      "text/plain": [
       "0"
      ]
     },
     "execution_count": 31,
     "metadata": {},
     "output_type": "execute_result"
    }
   ],
   "source": [
    "denomination.duplicated().sum()"
   ]
  },
  {
   "cell_type": "code",
   "execution_count": 32,
   "metadata": {},
   "outputs": [
    {
     "data": {
      "text/plain": [
       "EntityNumber           0\n",
       "Language               0\n",
       "TypeOfDenomination     0\n",
       "Denomination          16\n",
       "dtype: int64"
      ]
     },
     "execution_count": 32,
     "metadata": {},
     "output_type": "execute_result"
    }
   ],
   "source": [
    "denomination.isnull().sum()"
   ]
  },
  {
   "cell_type": "markdown",
   "metadata": {},
   "source": [
    "### enterprise.csv"
   ]
  },
  {
   "cell_type": "code",
   "execution_count": 33,
   "metadata": {},
   "outputs": [],
   "source": [
    "enterprise = pd.read_csv('../data/enterprise.csv')"
   ]
  },
  {
   "cell_type": "code",
   "execution_count": 34,
   "metadata": {},
   "outputs": [
    {
     "data": {
      "text/html": [
       "<div>\n",
       "<style scoped>\n",
       "    .dataframe tbody tr th:only-of-type {\n",
       "        vertical-align: middle;\n",
       "    }\n",
       "\n",
       "    .dataframe tbody tr th {\n",
       "        vertical-align: top;\n",
       "    }\n",
       "\n",
       "    .dataframe thead th {\n",
       "        text-align: right;\n",
       "    }\n",
       "</style>\n",
       "<table border=\"1\" class=\"dataframe\">\n",
       "  <thead>\n",
       "    <tr style=\"text-align: right;\">\n",
       "      <th></th>\n",
       "      <th>EnterpriseNumber</th>\n",
       "      <th>Status</th>\n",
       "      <th>JuridicalSituation</th>\n",
       "      <th>TypeOfEnterprise</th>\n",
       "      <th>JuridicalForm</th>\n",
       "      <th>JuridicalFormCAC</th>\n",
       "      <th>StartDate</th>\n",
       "    </tr>\n",
       "  </thead>\n",
       "  <tbody>\n",
       "    <tr>\n",
       "      <th>0</th>\n",
       "      <td>0200.065.765</td>\n",
       "      <td>AC</td>\n",
       "      <td>0</td>\n",
       "      <td>2</td>\n",
       "      <td>416.0</td>\n",
       "      <td>NaN</td>\n",
       "      <td>09-08-1960</td>\n",
       "    </tr>\n",
       "    <tr>\n",
       "      <th>1</th>\n",
       "      <td>0200.068.636</td>\n",
       "      <td>AC</td>\n",
       "      <td>0</td>\n",
       "      <td>2</td>\n",
       "      <td>417.0</td>\n",
       "      <td>NaN</td>\n",
       "      <td>16-02-1923</td>\n",
       "    </tr>\n",
       "    <tr>\n",
       "      <th>2</th>\n",
       "      <td>0200.171.970</td>\n",
       "      <td>AC</td>\n",
       "      <td>0</td>\n",
       "      <td>2</td>\n",
       "      <td>116.0</td>\n",
       "      <td>NaN</td>\n",
       "      <td>01-01-1968</td>\n",
       "    </tr>\n",
       "    <tr>\n",
       "      <th>3</th>\n",
       "      <td>0200.245.711</td>\n",
       "      <td>AC</td>\n",
       "      <td>12</td>\n",
       "      <td>2</td>\n",
       "      <td>116.0</td>\n",
       "      <td>NaN</td>\n",
       "      <td>01-01-1922</td>\n",
       "    </tr>\n",
       "    <tr>\n",
       "      <th>4</th>\n",
       "      <td>0200.305.493</td>\n",
       "      <td>AC</td>\n",
       "      <td>0</td>\n",
       "      <td>2</td>\n",
       "      <td>416.0</td>\n",
       "      <td>NaN</td>\n",
       "      <td>19-03-1962</td>\n",
       "    </tr>\n",
       "  </tbody>\n",
       "</table>\n",
       "</div>"
      ],
      "text/plain": [
       "  EnterpriseNumber Status  JuridicalSituation  TypeOfEnterprise  \\\n",
       "0     0200.065.765     AC                   0                 2   \n",
       "1     0200.068.636     AC                   0                 2   \n",
       "2     0200.171.970     AC                   0                 2   \n",
       "3     0200.245.711     AC                  12                 2   \n",
       "4     0200.305.493     AC                   0                 2   \n",
       "\n",
       "   JuridicalForm  JuridicalFormCAC   StartDate  \n",
       "0          416.0               NaN  09-08-1960  \n",
       "1          417.0               NaN  16-02-1923  \n",
       "2          116.0               NaN  01-01-1968  \n",
       "3          116.0               NaN  01-01-1922  \n",
       "4          416.0               NaN  19-03-1962  "
      ]
     },
     "execution_count": 34,
     "metadata": {},
     "output_type": "execute_result"
    }
   ],
   "source": [
    "enterprise.head()"
   ]
  },
  {
   "cell_type": "code",
   "execution_count": 35,
   "metadata": {},
   "outputs": [
    {
     "name": "stdout",
     "output_type": "stream",
     "text": [
      "<class 'pandas.core.frame.DataFrame'>\n",
      "RangeIndex: 1896421 entries, 0 to 1896420\n",
      "Data columns (total 7 columns):\n",
      " #   Column              Dtype  \n",
      "---  ------              -----  \n",
      " 0   EnterpriseNumber    object \n",
      " 1   Status              object \n",
      " 2   JuridicalSituation  int64  \n",
      " 3   TypeOfEnterprise    int64  \n",
      " 4   JuridicalForm       float64\n",
      " 5   JuridicalFormCAC    float64\n",
      " 6   StartDate           object \n",
      "dtypes: float64(2), int64(2), object(3)\n",
      "memory usage: 101.3+ MB\n"
     ]
    }
   ],
   "source": [
    "enterprise.info()"
   ]
  },
  {
   "cell_type": "code",
   "execution_count": 36,
   "metadata": {},
   "outputs": [
    {
     "data": {
      "text/plain": [
       "0"
      ]
     },
     "execution_count": 36,
     "metadata": {},
     "output_type": "execute_result"
    }
   ],
   "source": [
    "enterprise.duplicated().sum()"
   ]
  },
  {
   "cell_type": "code",
   "execution_count": 37,
   "metadata": {},
   "outputs": [
    {
     "data": {
      "text/plain": [
       "EnterpriseNumber            0\n",
       "Status                      0\n",
       "JuridicalSituation          0\n",
       "TypeOfEnterprise            0\n",
       "JuridicalForm          771265\n",
       "JuridicalFormCAC      1767260\n",
       "StartDate                   0\n",
       "dtype: int64"
      ]
     },
     "execution_count": 37,
     "metadata": {},
     "output_type": "execute_result"
    }
   ],
   "source": [
    "enterprise.isnull().sum()"
   ]
  },
  {
   "cell_type": "markdown",
   "metadata": {},
   "source": [
    "### establishment.csv"
   ]
  },
  {
   "cell_type": "code",
   "execution_count": 38,
   "metadata": {},
   "outputs": [],
   "source": [
    "establishment = pd.read_csv('../data/establishment.csv')"
   ]
  },
  {
   "cell_type": "code",
   "execution_count": 39,
   "metadata": {},
   "outputs": [
    {
     "data": {
      "text/html": [
       "<div>\n",
       "<style scoped>\n",
       "    .dataframe tbody tr th:only-of-type {\n",
       "        vertical-align: middle;\n",
       "    }\n",
       "\n",
       "    .dataframe tbody tr th {\n",
       "        vertical-align: top;\n",
       "    }\n",
       "\n",
       "    .dataframe thead th {\n",
       "        text-align: right;\n",
       "    }\n",
       "</style>\n",
       "<table border=\"1\" class=\"dataframe\">\n",
       "  <thead>\n",
       "    <tr style=\"text-align: right;\">\n",
       "      <th></th>\n",
       "      <th>EstablishmentNumber</th>\n",
       "      <th>StartDate</th>\n",
       "      <th>EnterpriseNumber</th>\n",
       "    </tr>\n",
       "  </thead>\n",
       "  <tbody>\n",
       "    <tr>\n",
       "      <th>0</th>\n",
       "      <td>2.000.000.339</td>\n",
       "      <td>01-11-1974</td>\n",
       "      <td>0403.449.823</td>\n",
       "    </tr>\n",
       "    <tr>\n",
       "      <th>1</th>\n",
       "      <td>2.000.000.438</td>\n",
       "      <td>01-09-1964</td>\n",
       "      <td>0403.590.274</td>\n",
       "    </tr>\n",
       "    <tr>\n",
       "      <th>2</th>\n",
       "      <td>2.000.001.032</td>\n",
       "      <td>17-01-1967</td>\n",
       "      <td>0403.174.758</td>\n",
       "    </tr>\n",
       "    <tr>\n",
       "      <th>3</th>\n",
       "      <td>2.000.002.022</td>\n",
       "      <td>01-04-1963</td>\n",
       "      <td>0401.729.854</td>\n",
       "    </tr>\n",
       "    <tr>\n",
       "      <th>4</th>\n",
       "      <td>2.000.003.606</td>\n",
       "      <td>01-07-1964</td>\n",
       "      <td>0403.813.275</td>\n",
       "    </tr>\n",
       "  </tbody>\n",
       "</table>\n",
       "</div>"
      ],
      "text/plain": [
       "  EstablishmentNumber   StartDate EnterpriseNumber\n",
       "0       2.000.000.339  01-11-1974     0403.449.823\n",
       "1       2.000.000.438  01-09-1964     0403.590.274\n",
       "2       2.000.001.032  17-01-1967     0403.174.758\n",
       "3       2.000.002.022  01-04-1963     0401.729.854\n",
       "4       2.000.003.606  01-07-1964     0403.813.275"
      ]
     },
     "execution_count": 39,
     "metadata": {},
     "output_type": "execute_result"
    }
   ],
   "source": [
    "establishment.head()"
   ]
  },
  {
   "cell_type": "code",
   "execution_count": 40,
   "metadata": {},
   "outputs": [
    {
     "name": "stdout",
     "output_type": "stream",
     "text": [
      "<class 'pandas.core.frame.DataFrame'>\n",
      "RangeIndex: 1632645 entries, 0 to 1632644\n",
      "Data columns (total 3 columns):\n",
      " #   Column               Non-Null Count    Dtype \n",
      "---  ------               --------------    ----- \n",
      " 0   EstablishmentNumber  1632645 non-null  object\n",
      " 1   StartDate            1632645 non-null  object\n",
      " 2   EnterpriseNumber     1632645 non-null  object\n",
      "dtypes: object(3)\n",
      "memory usage: 37.4+ MB\n"
     ]
    }
   ],
   "source": [
    "establishment.info()"
   ]
  },
  {
   "cell_type": "code",
   "execution_count": 41,
   "metadata": {},
   "outputs": [
    {
     "data": {
      "text/plain": [
       "0"
      ]
     },
     "execution_count": 41,
     "metadata": {},
     "output_type": "execute_result"
    }
   ],
   "source": [
    "establishment.duplicated().sum()"
   ]
  },
  {
   "cell_type": "code",
   "execution_count": 42,
   "metadata": {},
   "outputs": [
    {
     "data": {
      "text/plain": [
       "EstablishmentNumber    0\n",
       "StartDate              0\n",
       "EnterpriseNumber       0\n",
       "dtype: int64"
      ]
     },
     "execution_count": 42,
     "metadata": {},
     "output_type": "execute_result"
    }
   ],
   "source": [
    "establishment.isnull().sum()"
   ]
  },
  {
   "cell_type": "markdown",
   "metadata": {},
   "source": [
    "## Analyse des données\n",
    "\n",
    "### activity.csv\n",
    "\n",
    "- 20.443.184 rows\n",
    "- 1.105 duplicates\n",
    "- EntityNumber: 2.868.926 unique values\n",
    "- ActivityGroup: 1,3,4,5,6,7\n",
    "- NaceVersion: 2003,2008\n",
    "- NaceCode: 5.302 unique values\n",
    "- Classification: MAIN,SECO,ANCI\n",
    "\n",
    "### address.csv\n",
    "\n",
    "- 2.765.156 rows\n",
    "- EntityNumber: all unique\n",
    "- TypeOfAddress: BAET,REGO,ABBR\n",
    "- CountryNL, CountryFR: \n",
    "    - 97% empty\n",
    "    - ~210 unique values\n",
    "- Zipcode: \n",
    "    - 10.999 empty (<1%)\n",
    "- MunicipalityNL, MunicipalityFR: \n",
    "    - <1% empty\n",
    "    - ~28.400 unique values\n",
    "- StreetNL, StreetFR:\n",
    "    - <1% empty\n",
    "    - ~155.000 unique values\n",
    "- HouseNumber: \n",
    "    - <1% empty\n",
    "    - 28.221 unique values\n",
    "- Box:\n",
    "    - 86% empty\n",
    "    - 11.500 unique values\n",
    "    - random strings\n",
    "- ExtraAddressInfo:\n",
    "    - \\>99% empty\n",
    "    - 20.000 unique values\n",
    "- DateStrikingOff:\n",
    "    - 99% empty\n",
    "    - 3.648 unique values\n",
    "\n",
    "### branch.csv\n",
    "\n",
    "- 7.355 rows\n",
    "- Id: all unique\n",
    "- StartDate\n",
    "- EnterpriseNumber\n",
    "\n",
    "### code.csv\n",
    "\n",
    "- 14.948 rows\n",
    "- Category: 13 unique values\n",
    "- Code: 6.788 unique values\n",
    "- Language: FR,NL,DE\n",
    "- Description\n",
    "\n",
    "### contact.csv\n",
    "\n",
    "- 648.723 rows\n",
    "- 1.790 duplicates\n",
    "- EntityNumber: 390.391 unique values\n",
    "- EntityContact: ENT,EST\n",
    "- ContactType: EMAIL,TEL,WEB\n",
    "- Value: 520.887 unique values\n",
    "\n",
    "### denomination.csv\n",
    "\n",
    "- 3.223.091 rows\n",
    "- EntityNumber: 96% unique\n",
    "- Language: 0,1,2,3,4\n",
    "- TypeOfDenomination: 1,2,3,4\n",
    "- Denomination:\n",
    "    - \\<1% empty\n",
    "    - 79% unique values\n",
    "\n",
    "### enterprise.csv\n",
    "\n",
    "- 1.896.421 rows\n",
    "- EnterpriseNumber: all unique\n",
    "- Status: 100% AC\n",
    "- JuridicalSituation:\n",
    "    - 90% 0\n",
    "    - 18 unique values\n",
    "- TypeOfEntreprise: 1,2\n",
    "- JuridicalForm:\n",
    "    - 41% empty\n",
    "    - 105 unique values\n",
    "- JuridicalFormCAC:\n",
    "    - 93% empty\n",
    "    - 5 unique values\n",
    "- StartDate: 30.000 unique values\n",
    "\n",
    "### establishment.csv\n",
    "\n",
    "- 1.632.645 rows\n",
    "- EstablishmentNumber: all unique\n",
    "- StartDate: 19.455 unique values\n",
    "- EnterpriseNumber: 90% unique values\n"
   ]
  },
  {
   "cell_type": "code",
   "execution_count": 43,
   "metadata": {},
   "outputs": [
    {
     "data": {
      "text/plain": [
       "array(['ActivityGroup', 'Classification', 'ContactType', 'EntityContact',\n",
       "       'JuridicalForm', 'JuridicalSituation', 'Language', 'Nace2003',\n",
       "       'Nace2008', 'Status', 'TypeOfAddress', 'TypeOfDenomination',\n",
       "       'TypeOfEnterprise'], dtype=object)"
      ]
     },
     "execution_count": 43,
     "metadata": {},
     "output_type": "execute_result"
    }
   ],
   "source": [
    "# list distinct values in the column\n",
    "code['Category'].unique()"
   ]
  }
 ],
 "metadata": {
  "kernelspec": {
   "display_name": "base",
   "language": "python",
   "name": "python3"
  },
  "language_info": {
   "codemirror_mode": {
    "name": "ipython",
    "version": 3
   },
   "file_extension": ".py",
   "mimetype": "text/x-python",
   "name": "python",
   "nbconvert_exporter": "python",
   "pygments_lexer": "ipython3",
   "version": "3.11.5"
  }
 },
 "nbformat": 4,
 "nbformat_minor": 2
}
